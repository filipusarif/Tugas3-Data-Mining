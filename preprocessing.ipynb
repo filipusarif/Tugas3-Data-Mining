{
  "nbformat": 4,
  "nbformat_minor": 0,
  "metadata": {
    "colab": {
      "provenance": []
    },
    "kernelspec": {
      "name": "python3",
      "display_name": "Python 3"
    },
    "language_info": {
      "name": "python"
    }
  },
  "cells": [
    {
      "cell_type": "code",
      "execution_count": 16,
      "metadata": {
        "colab": {
          "base_uri": "https://localhost:8080/"
        },
        "id": "KeLUnLl2mB5a",
        "outputId": "0c6e69cf-9eb1-497f-b621-d0b804df8403"
      },
      "outputs": [
        {
          "output_type": "stream",
          "name": "stdout",
          "text": [
            "[['Mie' 44.0 72000.0]\n",
            " ['Bakso' 27.0 48000.0]\n",
            " ['Mie' 30.0 54000.0]\n",
            " ['Gudeg' 38.0 61000.0]\n",
            " ['Sate' 40.0 nan]\n",
            " ['Gudeg' 35.0 58000.0]\n",
            " ['Sate' nan 52000.0]\n",
            " ['Bakso' 48.0 79000.0]\n",
            " ['Sate' 50.0 83000.0]\n",
            " ['Bakso' 37.0 67000.0]\n",
            " ['Bakso' 50.0 38000.0]\n",
            " ['Mie' 10.0 43000.0]\n",
            " ['Gudeg' 34.0 69000.0]]\n",
            "['No' 'Yes' 'No' 'No' 'Yes' 'Yes' 'No' 'Yes' 'No' 'Yes' 'Yes' 'Yes' 'No']\n"
          ]
        }
      ],
      "source": [
        "import numpy as np\n",
        "import matplotlib.pyplot as plt\n",
        "import pandas as pd\n",
        "\n",
        "dataset = pd.read_csv('Book1.csv')\n",
        "X = dataset.iloc[:,:-1].values\n",
        "y = dataset.iloc[:, -1].values\n",
        "\n",
        "print(X)\n",
        "print(y)"
      ]
    },
    {
      "cell_type": "code",
      "source": [
        "from sklearn.impute import SimpleImputer\n",
        "imputer = SimpleImputer(missing_values=np.nan, strategy='mean')\n",
        "imputer.fit(X[:, 1:3])\n",
        "X[:, 1:3] = imputer.transform(X[:, 1:3])\n",
        "\n",
        "print(X)"
      ],
      "metadata": {
        "colab": {
          "base_uri": "https://localhost:8080/"
        },
        "id": "9xWLkn1Tnvt3",
        "outputId": "472cce84-f969-4000-cbbe-739a85717a50"
      },
      "execution_count": 17,
      "outputs": [
        {
          "output_type": "stream",
          "name": "stdout",
          "text": [
            "[['Mie' 44.0 72000.0]\n",
            " ['Bakso' 27.0 48000.0]\n",
            " ['Mie' 30.0 54000.0]\n",
            " ['Gudeg' 38.0 61000.0]\n",
            " ['Sate' 40.0 60333.333333333336]\n",
            " ['Gudeg' 35.0 58000.0]\n",
            " ['Sate' 36.916666666666664 52000.0]\n",
            " ['Bakso' 48.0 79000.0]\n",
            " ['Sate' 50.0 83000.0]\n",
            " ['Bakso' 37.0 67000.0]\n",
            " ['Bakso' 50.0 38000.0]\n",
            " ['Mie' 10.0 43000.0]\n",
            " ['Gudeg' 34.0 69000.0]]\n"
          ]
        }
      ]
    },
    {
      "cell_type": "code",
      "source": [
        "from sklearn.compose import ColumnTransformer\n",
        "from sklearn.preprocessing import OneHotEncoder\n",
        "ct = ColumnTransformer(transformers=[('encoder', OneHotEncoder(), [0])], remainder='passthrough')\n",
        "X = np.array(ct.fit_transform(X))\n",
        "\n",
        "print(X)"
      ],
      "metadata": {
        "colab": {
          "base_uri": "https://localhost:8080/"
        },
        "id": "8qgLlBs1n7Zz",
        "outputId": "45ad30d4-5995-42fa-eb19-64fe3a25d635"
      },
      "execution_count": 18,
      "outputs": [
        {
          "output_type": "stream",
          "name": "stdout",
          "text": [
            "[[0.0 0.0 1.0 0.0 44.0 72000.0]\n",
            " [1.0 0.0 0.0 0.0 27.0 48000.0]\n",
            " [0.0 0.0 1.0 0.0 30.0 54000.0]\n",
            " [0.0 1.0 0.0 0.0 38.0 61000.0]\n",
            " [0.0 0.0 0.0 1.0 40.0 60333.333333333336]\n",
            " [0.0 1.0 0.0 0.0 35.0 58000.0]\n",
            " [0.0 0.0 0.0 1.0 36.916666666666664 52000.0]\n",
            " [1.0 0.0 0.0 0.0 48.0 79000.0]\n",
            " [0.0 0.0 0.0 1.0 50.0 83000.0]\n",
            " [1.0 0.0 0.0 0.0 37.0 67000.0]\n",
            " [1.0 0.0 0.0 0.0 50.0 38000.0]\n",
            " [0.0 0.0 1.0 0.0 10.0 43000.0]\n",
            " [0.0 1.0 0.0 0.0 34.0 69000.0]]\n"
          ]
        }
      ]
    },
    {
      "cell_type": "code",
      "source": [
        "from sklearn.preprocessing import LabelEncoder\n",
        "le = LabelEncoder()\n",
        "y = le.fit_transform(y)\n",
        "\n",
        "print(y)"
      ],
      "metadata": {
        "colab": {
          "base_uri": "https://localhost:8080/"
        },
        "id": "aHITxf7coZ56",
        "outputId": "f9ea331e-e2c8-41f1-bf9a-53b1f905889a"
      },
      "execution_count": 19,
      "outputs": [
        {
          "output_type": "stream",
          "name": "stdout",
          "text": [
            "[0 1 0 0 1 1 0 1 0 1 1 1 0]\n"
          ]
        }
      ]
    },
    {
      "cell_type": "code",
      "source": [
        "from sklearn.model_selection import train_test_split\n",
        "X_train, X_test, y_train, y_test = train_test_split(X, y, test_size = 0.2, random_state = 1)\n",
        "\n",
        "print(X_train)\n",
        "print(X_test)\n",
        "print(y_train)\n",
        "print(y_test)"
      ],
      "metadata": {
        "colab": {
          "base_uri": "https://localhost:8080/"
        },
        "id": "sq3E0L4DotuT",
        "outputId": "2fc7945f-a4cf-494d-bc29-e167b3144da1"
      },
      "execution_count": 22,
      "outputs": [
        {
          "output_type": "stream",
          "name": "stdout",
          "text": [
            "[[1.0 0.0 0.0 0.0 50.0 38000.0]\n",
            " [1.0 0.0 0.0 0.0 27.0 48000.0]\n",
            " [0.0 0.0 0.0 1.0 36.916666666666664 52000.0]\n",
            " [0.0 0.0 1.0 0.0 44.0 72000.0]\n",
            " [1.0 0.0 0.0 0.0 48.0 79000.0]\n",
            " [0.0 1.0 0.0 0.0 34.0 69000.0]\n",
            " [1.0 0.0 0.0 0.0 37.0 67000.0]\n",
            " [0.0 0.0 0.0 1.0 50.0 83000.0]\n",
            " [0.0 0.0 1.0 0.0 10.0 43000.0]\n",
            " [0.0 1.0 0.0 0.0 35.0 58000.0]]\n",
            "[[0.0 0.0 1.0 0.0 30.0 54000.0]\n",
            " [0.0 1.0 0.0 0.0 38.0 61000.0]\n",
            " [0.0 0.0 0.0 1.0 40.0 60333.333333333336]]\n",
            "[1 1 0 0 1 0 1 0 1 1]\n",
            "[0 0 1]\n"
          ]
        }
      ]
    },
    {
      "cell_type": "code",
      "source": [
        "from sklearn.preprocessing import StandardScaler\n",
        "sc = StandardScaler()\n",
        "X_train[:, 3:] = sc.fit_transform(X_train[:, 3:])\n",
        "X_test[:, 3:] = sc.transform(X_test[:, 3:])\n",
        "\n",
        "print(X_train)\n",
        "print(X_test)"
      ],
      "metadata": {
        "colab": {
          "base_uri": "https://localhost:8080/"
        },
        "id": "8y8V3SVao8qm",
        "outputId": "6ed25a49-6787-49a2-b438-0c35a99f09b4"
      },
      "execution_count": 23,
      "outputs": [
        {
          "output_type": "stream",
          "name": "stdout",
          "text": [
            "[[1.0 0.0 0.0 -0.49999999999999994 1.1025129970907066 -1.565082701305981]\n",
            " [1.0 0.0 0.0 -0.49999999999999994 -0.8772761193506398\n",
            "  -0.8816404736614478]\n",
            " [0.0 0.0 0.0 1.9999999999999998 -0.02367139160962467 -0.6082635826036346]\n",
            " [0.0 0.0 1.0 -0.49999999999999994 0.5860462710625293 0.7586208726854319]\n",
            " [1.0 0.0 0.0 -0.49999999999999994 0.9303574217479809 1.237030432036605]\n",
            " [0.0 1.0 0.0 -0.49999999999999994 -0.27473160565109955\n",
            "  0.5535882043920719]\n",
            " [1.0 0.0 0.0 -0.49999999999999994 -0.01649824263701089\n",
            "  0.41689975886316527]\n",
            " [0.0 0.0 0.0 1.9999999999999998 1.1025129970907066 1.5104073230944184]\n",
            " [0.0 0.0 1.0 -0.49999999999999994 -2.340598509763809 -1.2233615874837145]\n",
            " [0.0 1.0 0.0 -0.49999999999999994 -0.18865381797973665\n",
            "  -0.19819824601691463]]\n",
            "[[0.0 0.0 1.0 -0.49999999999999994 -0.619042756336551 -0.4715751370747279]\n",
            " [0.0 1.0 0.0 -0.49999999999999994 0.06957954503435199\n",
            "  0.006834422276445332]\n",
            " [0.0 0.0 0.0 1.9999999999999998 0.24173512037707776 -0.03872839289985672]]\n"
          ]
        }
      ]
    }
  ]
}